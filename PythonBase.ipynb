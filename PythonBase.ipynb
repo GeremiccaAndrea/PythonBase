{
  "nbformat": 4,
  "nbformat_minor": 0,
  "metadata": {
    "colab": {
      "provenance": [],
      "authorship_tag": "ABX9TyPBgG+nfyoRdKtrnt4I1Xlz",
      "include_colab_link": true
    },
    "kernelspec": {
      "name": "python3",
      "display_name": "Python 3"
    },
    "language_info": {
      "name": "python"
    }
  },
  "cells": [
    {
      "cell_type": "markdown",
      "metadata": {
        "id": "view-in-github",
        "colab_type": "text"
      },
      "source": [
        "<a href=\"https://colab.research.google.com/github/GeremiccaAndrea/PythonBase/blob/main/PythonBase.ipynb\" target=\"_parent\"><img src=\"https://colab.research.google.com/assets/colab-badge.svg\" alt=\"Open In Colab\"/></a>"
      ]
    },
    {
      "cell_type": "markdown",
      "source": [
        "\n",
        "assegnare alle variabili x, y e z i valori 10, 20 e 30 in un'unica istruzione. Assegnare alle variabili a, b e c il valore 100 sempre in un'unica istruzione\n"
      ],
      "metadata": {
        "id": "OLpIE9Q65gn6"
      }
    },
    {
      "cell_type": "code",
      "execution_count": 2,
      "metadata": {
        "colab": {
          "base_uri": "https://localhost:8080/"
        },
        "id": "EpiSwIi95NBp",
        "outputId": "6b861eaf-c00b-4efb-ad90-970acd3f7529"
      },
      "outputs": [
        {
          "output_type": "stream",
          "name": "stdout",
          "text": [
            "100 100 100\n"
          ]
        }
      ],
      "source": [
        "x,y,z = 10,20,30\n",
        "a = b = c = 100\n",
        "print(a,b,c)"
      ]
    },
    {
      "cell_type": "markdown",
      "source": [
        "far inserire all'utente due numeri interi, scambiarli e visualizzarli"
      ],
      "metadata": {
        "id": "8qR0unao5vpx"
      }
    },
    {
      "cell_type": "code",
      "source": [
        "numero = int(input(\"inserire un numero: \")) \n",
        "numero_2 = int(input(\"inserire un altro numero: \"))\n",
        "numero, numero_2 = numero_2, numero\n",
        "print(numero, numero_2)"
      ],
      "metadata": {
        "colab": {
          "base_uri": "https://localhost:8080/"
        },
        "id": "tCEpIgUd5wXF",
        "outputId": "d8539a43-3eee-4662-a2af-ae509c69336d"
      },
      "execution_count": 3,
      "outputs": [
        {
          "output_type": "stream",
          "name": "stdout",
          "text": [
            "inserire un numero: 45\n",
            "inserire un altro numero: 34\n",
            "34 45\n"
          ]
        }
      ]
    },
    {
      "cell_type": "markdown",
      "source": [
        "far inserire all'utente due numeri e calcolare l'elevamento a potenza del primo per il secondo. Provare poi a vedere qual è la massima potenza del 2 che Python riesce a calcolare: lo smartphone è altrettanto potente?\n"
      ],
      "metadata": {
        "id": "x7w_WxVf5wxZ"
      }
    },
    {
      "cell_type": "code",
      "source": [
        "base = int(input(\"inserire la base della potenza: \"))\n",
        "esponente = int(input(\"inserire l'esponente della potenza: \"))\n",
        "pow(base, esponente)"
      ],
      "metadata": {
        "colab": {
          "base_uri": "https://localhost:8080/"
        },
        "id": "3j58SQ3u56Jm",
        "outputId": "677a64d3-b135-4949-d07b-ab273eedd62a"
      },
      "execution_count": 4,
      "outputs": [
        {
          "name": "stdout",
          "output_type": "stream",
          "text": [
            "inserire la base della potenza: 3\n",
            "inserire l'esponente della potenza: 2\n"
          ]
        },
        {
          "output_type": "execute_result",
          "data": {
            "text/plain": [
              "9"
            ]
          },
          "metadata": {},
          "execution_count": 4
        }
      ]
    },
    {
      "cell_type": "markdown",
      "source": [
        "far inserire all'utente tre numeri e visualizzare il massimo dei tre"
      ],
      "metadata": {
        "id": "BU7wMOc-6AKf"
      }
    },
    {
      "cell_type": "code",
      "source": [
        "num1 = int(input(\"inserire un numero: \"))\n",
        "num2 = int(input(\"inserire un altro numero: \"))\n",
        "num3 = int(input(\"inserire un altro numero: \"))\n",
        "valoremax = max(num1, num2, num3)\n",
        "print(valoremax)"
      ],
      "metadata": {
        "colab": {
          "base_uri": "https://localhost:8080/"
        },
        "id": "VKSdCDUh6BA3",
        "outputId": "45f43ed4-7c74-4ad9-d8f9-ac4274061f9c"
      },
      "execution_count": 5,
      "outputs": [
        {
          "output_type": "stream",
          "name": "stdout",
          "text": [
            "inserire un numero: 23\n",
            "inserire un altro numero: 45\n",
            "inserire un altro numero: 80\n",
            "80\n"
          ]
        }
      ]
    },
    {
      "cell_type": "markdown",
      "source": [
        "dati tre numeri, dire se con quei tre numeri possiamo costruire un triangolo"
      ],
      "metadata": {
        "id": "42gWv2P_6Hac"
      }
    },
    {
      "cell_type": "code",
      "source": [
        "lato1 = int(input(\"inserire un numero: \"))\n",
        "lato2 = int(input(\"inserire un altro numero: \"))\n",
        "lato3 = int(input(\"inserire un altro numero: \"))\n",
        "if lato1 < (lato2 +lato3) and lato2 < (lato1 + lato3) and lato3 < (lato2 + lato1):\n",
        "  print(\"si può costruire un trinagolo\")\n",
        "else:\n",
        "  print(\"non si può costuire un triangolo\")"
      ],
      "metadata": {
        "colab": {
          "base_uri": "https://localhost:8080/"
        },
        "id": "sZWlVCMs6H6_",
        "outputId": "c60b8225-9bee-4523-c740-0752bdd630ed"
      },
      "execution_count": 6,
      "outputs": [
        {
          "output_type": "stream",
          "name": "stdout",
          "text": [
            "inserire un numero: 12\n",
            "inserire un altro numero: 11\n",
            "inserire un altro numero: 44\n",
            "non si può costuire un triangolo\n"
          ]
        }
      ]
    },
    {
      "cell_type": "markdown",
      "source": [
        "far inserire dall'utente le misure di due cateti di un triangolo rettangolo (valori reali) e calcolare l'area del rettangolo e l'ipotenusa"
      ],
      "metadata": {
        "id": "8WSOfgx56Mou"
      }
    },
    {
      "cell_type": "code",
      "source": [
        "import math\n",
        "cateto1 = int(input(\"inserire il valore del primo cateto: \"))\n",
        "cateto2 = int(input(\"inserire il valore del primo cateto: \"))\n",
        "area = (cateto1 * cateto2) / 2\n",
        "ipotenusaQ = (cateto1 * cateto1) + (cateto2 * cateto2) \n",
        "ipotenusa = math.sqrt(ipotenusaQ) \n",
        "print(\"l'area è: \", area)\n",
        "print(\"l'ipotenusa é: \", ipotenusa)"
      ],
      "metadata": {
        "colab": {
          "base_uri": "https://localhost:8080/"
        },
        "id": "ibqjxQtj6NKD",
        "outputId": "bea604be-0b60-48b0-c582-c689916144cd"
      },
      "execution_count": 7,
      "outputs": [
        {
          "output_type": "stream",
          "name": "stdout",
          "text": [
            "inserire il valore del primo cateto: 35\n",
            "inserire il valore del primo cateto: 67\n",
            "l'area è:  1172.5\n",
            "l'ipotenusa é:  75.59100475585703\n"
          ]
        }
      ]
    },
    {
      "cell_type": "markdown",
      "source": [
        "far inserire un numero intero dall'utente e dire se è pari o dispari"
      ],
      "metadata": {
        "id": "GpfWsqwF6SkW"
      }
    },
    {
      "cell_type": "code",
      "source": [
        "nume = int(input(\"inserire un numero: \"))\n",
        "if nume % 2 == 0:\n",
        "    print(\"pari\")\n",
        "else:\n",
        "    print(\"dispari\")"
      ],
      "metadata": {
        "colab": {
          "base_uri": "https://localhost:8080/"
        },
        "id": "MKyIz1t-6TNP",
        "outputId": "d2b817c9-eff3-4411-eafd-659b01c2e430"
      },
      "execution_count": 8,
      "outputs": [
        {
          "output_type": "stream",
          "name": "stdout",
          "text": [
            "inserire un numero: 33\n",
            "dispari\n"
          ]
        }
      ]
    },
    {
      "cell_type": "markdown",
      "source": [
        "far inserire all'utente il valore di una temperatura in gradi centigradi e convertirlo in gradi fahrenheit"
      ],
      "metadata": {
        "id": "__Z60NEi6cYb"
      }
    },
    {
      "cell_type": "code",
      "source": [
        "temperaturaC = int(input(\"inserire una temperatura in gradi centrigradi: \"))\n",
        "Fahrenheit = (temperaturaC * 1.8) + 32\n",
        "print(Fahrenheit)"
      ],
      "metadata": {
        "colab": {
          "base_uri": "https://localhost:8080/"
        },
        "id": "zZrquaEv6dKL",
        "outputId": "0b60daac-88e1-4e03-9b24-267836201278"
      },
      "execution_count": 9,
      "outputs": [
        {
          "output_type": "stream",
          "name": "stdout",
          "text": [
            "inserire una temperatura in gradi centrigradi: 38\n",
            "100.4\n"
          ]
        }
      ]
    },
    {
      "cell_type": "markdown",
      "source": [
        "far inserire all'utente il valore di una temperatura in gradi fahrenheit e convertirlo in gradi centrigradi"
      ],
      "metadata": {
        "id": "vyypACk76hNH"
      }
    },
    {
      "cell_type": "code",
      "source": [
        "temperaturaF = int(input(\"inserire una temperatura in gradi fahrenheit: \"))\n",
        "centigradi = (temperaturaF - 32)/ 1.8\n",
        "print(centigradi)"
      ],
      "metadata": {
        "colab": {
          "base_uri": "https://localhost:8080/"
        },
        "id": "mI2pK0O26hpn",
        "outputId": "a5e570e4-fa86-41ea-d50f-22d111a6c6d0"
      },
      "execution_count": 10,
      "outputs": [
        {
          "output_type": "stream",
          "name": "stdout",
          "text": [
            "inserire una temperatura in gradi fahrenheit: 13\n",
            "-10.555555555555555\n"
          ]
        }
      ]
    },
    {
      "cell_type": "markdown",
      "source": [
        "far inserire all'utente una velocità in Km/h e visualizzare la stessa velocità in metri al secondo\n"
      ],
      "metadata": {
        "id": "KuToudFj6mZw"
      }
    },
    {
      "cell_type": "code",
      "source": [
        "velocitàKh = int(input(\"inserire una velocità in Km/h: \"))\n",
        "velocitàMs = velocitàKh / 3.6\n",
        "print(velocitàMs)"
      ],
      "metadata": {
        "colab": {
          "base_uri": "https://localhost:8080/"
        },
        "id": "M7uohlrh6m-N",
        "outputId": "1c5d6efe-0da7-46a9-dcfa-239531749d95"
      },
      "execution_count": 11,
      "outputs": [
        {
          "output_type": "stream",
          "name": "stdout",
          "text": [
            "inserire una velocità in Km/h: 166\n",
            "46.11111111111111\n"
          ]
        }
      ]
    },
    {
      "cell_type": "markdown",
      "source": [
        "far inserire all'utente il raggio di un cerchio e visualizzarne il diametro e l'area"
      ],
      "metadata": {
        "id": "2y0n3Ze-6otZ"
      }
    },
    {
      "cell_type": "code",
      "source": [
        "raggio = int(input(\"inserire il valore del raggio del cerchio: \"))\n",
        "area = (raggio * raggio) * 3.14\n",
        "diametro = raggio * 2\n",
        "print(\"l'area è: \", area) \n",
        "print(\"il diametro è \", diametro)"
      ],
      "metadata": {
        "colab": {
          "base_uri": "https://localhost:8080/"
        },
        "id": "XzJxR1es6sNV",
        "outputId": "85330472-3a10-4849-ac6f-a336f89a585c"
      },
      "execution_count": 12,
      "outputs": [
        {
          "output_type": "stream",
          "name": "stdout",
          "text": [
            "inserire il valore del raggio del cerchio: 26\n",
            "l'area è:  2122.64\n",
            "il diametro è  52\n"
          ]
        }
      ]
    },
    {
      "cell_type": "markdown",
      "source": [
        "far inserire all'utente il suo nome e poi il suo cognome e visualizzare il suo cognome e il suo nome separati da uno spazio\n"
      ],
      "metadata": {
        "id": "idm-tvId6u1y"
      }
    },
    {
      "cell_type": "code",
      "source": [
        "nome = input(\"inserire il tuo nome: \")\n",
        "cognome = input(\"inserire il tuo cognome: \")\n",
        "print(cognome,\"\", nome)"
      ],
      "metadata": {
        "colab": {
          "base_uri": "https://localhost:8080/"
        },
        "id": "lCrAiCpu6zgc",
        "outputId": "d6497e7e-16f4-4652-fac7-89d43f40950d"
      },
      "execution_count": 14,
      "outputs": [
        {
          "output_type": "stream",
          "name": "stdout",
          "text": [
            "inserire il tuo nome: Andrea\n",
            "inserire il tuo cognome: Geremicca\n",
            "Geremicca  Andrea\n"
          ]
        }
      ]
    },
    {
      "cell_type": "markdown",
      "source": [
        "far inserire all'utente un numero e visualizzare il suo valore assoluto"
      ],
      "metadata": {
        "id": "YT31LSXX62vc"
      }
    },
    {
      "cell_type": "code",
      "source": [
        "import math\n",
        "numerocolsegno = int(input(\"inserire un numero: \"))\n",
        "valoreassoluto = abs(numerocolsegno)\n",
        "print(valoreassoluto)"
      ],
      "metadata": {
        "colab": {
          "base_uri": "https://localhost:8080/"
        },
        "id": "d_psZCW963Xj",
        "outputId": "39e76ce5-dc10-4f86-ca3d-55b464398a83"
      },
      "execution_count": 16,
      "outputs": [
        {
          "output_type": "stream",
          "name": "stdout",
          "text": [
            "inserire un numero: 12\n",
            "12\n"
          ]
        }
      ]
    },
    {
      "cell_type": "markdown",
      "source": [
        "far inserire all'utente un voto e controllare che sia compreso tra 1 e 10, estremi inclusi, Se è compreso visualizzare la stringa 'OK' altrimenti visualizzare la stringa 'KO'\n"
      ],
      "metadata": {
        "id": "UZbqt7bQ693r"
      }
    },
    {
      "cell_type": "code",
      "source": [
        "voto = int(input(\"inserire un voto: \"))\n",
        "if voto >= 1 and voto <= 10:\n",
        "  print(\"OK\")\n",
        "else:\n",
        "  print(\"KO\")"
      ],
      "metadata": {
        "colab": {
          "base_uri": "https://localhost:8080/"
        },
        "id": "35JqhG5S6-h2",
        "outputId": "3b8ab286-9060-496e-e893-28ab1989d8c8"
      },
      "execution_count": 17,
      "outputs": [
        {
          "output_type": "stream",
          "name": "stdout",
          "text": [
            "inserire un voto: 7\n",
            "OK\n"
          ]
        }
      ]
    },
    {
      "cell_type": "markdown",
      "source": [
        "far inserire all'utente due numeri e dire se uno è multiplo dell'altro. Ad esempio se l'utente inserisse i valori 60 e 15 il programma dovrebbe visualizzare la stringa '60 è un multiplo di 15'. Stessa cosa se l'utente inserisse prima il 15 e poi il 60., Se non sono multipli, visualizzare un messaggio appropriato\n"
      ],
      "metadata": {
        "id": "qZZLDGdw7AYU"
      }
    },
    {
      "cell_type": "code",
      "source": [
        "N = int(input(\"inserire un numero: \"))\n",
        "N2 = int(input(\"inserire un altro numero: \"))\n",
        "if N % N2 == 0:\n",
        "  print(N,\" è un multiplo di: \",N2)\n",
        "elif N2 % N == 0:\n",
        "  print(N2,\" è un multiplo di: \",N)\n",
        "else:\n",
        "  print(\"non sono multipli\")"
      ],
      "metadata": {
        "colab": {
          "base_uri": "https://localhost:8080/"
        },
        "id": "I9OWj-hE7Gau",
        "outputId": "033fee7e-7275-45f0-8840-29a81c2935ad"
      },
      "execution_count": 18,
      "outputs": [
        {
          "output_type": "stream",
          "name": "stdout",
          "text": [
            "inserire un numero: 14\n",
            "inserire un altro numero: 34\n",
            "non sono multipli\n"
          ]
        }
      ]
    },
    {
      "cell_type": "markdown",
      "source": [
        "far inserire all'utente la durata di un periodi di tempo in ore, minuti e secodni e convertirlo in secondi\n"
      ],
      "metadata": {
        "id": "5L1quZF37MF-"
      }
    },
    {
      "cell_type": "code",
      "source": [
        "o = int(input(\"inserire le ore: \"))\n",
        "m = int(input(\"inserire i minuti: \"))\n",
        "s = int(input(\"inserire i secondi: \"))\n",
        "convertireleore = o * 3600\n",
        "convertireiminuti = m * 60\n",
        "totale = convertireleore + convertireiminuti + s\n",
        "print(totale)"
      ],
      "metadata": {
        "colab": {
          "base_uri": "https://localhost:8080/"
        },
        "id": "zAom1UYO7Mi3",
        "outputId": "dbcbcacd-1116-49b2-974e-bd3057c0eea3"
      },
      "execution_count": 19,
      "outputs": [
        {
          "output_type": "stream",
          "name": "stdout",
          "text": [
            "inserire le ore: 4\n",
            "inserire i minuti: 55\n",
            "inserire i secondi: 20\n",
            "17720\n"
          ]
        }
      ]
    },
    {
      "cell_type": "markdown",
      "source": [
        "far inserire all'utente la durata di un periodo in secondi e convertirlo in ore, minuti e secondi\n"
      ],
      "metadata": {
        "id": "0tRkEYFO7Pe4"
      }
    },
    {
      "cell_type": "code",
      "source": [
        "sec = int(input(\"inserire i secondi: \"))\n",
        "ore = sec // 3600\n",
        "secavanzati = sec % 3600\n",
        "minuti = secavanzati // 60\n",
        "secavanzati = secavanzati % 60\n",
        "print(ore)\n",
        "print(minuti)\n",
        "print(secavanzati)"
      ],
      "metadata": {
        "colab": {
          "base_uri": "https://localhost:8080/"
        },
        "id": "LHaWtXPk7QDm",
        "outputId": "69757bb6-1f26-4e52-9f75-8cb00c3313e9"
      },
      "execution_count": 20,
      "outputs": [
        {
          "output_type": "stream",
          "name": "stdout",
          "text": [
            "inserire i secondi: 33\n",
            "0\n",
            "0\n",
            "33\n"
          ]
        }
      ]
    }
  ]
}